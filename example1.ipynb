{
 "cells": [
  {
   "cell_type": "code",
   "execution_count": 1,
   "metadata": {
    "collapsed": true
   },
   "outputs": [],
   "source": [
    "import tensorflow as tf"
   ]
  },
  {
   "cell_type": "code",
   "execution_count": 8,
   "metadata": {
    "collapsed": false
   },
   "outputs": [],
   "source": [
    "A = tf.random_normal([5, 5])\n",
    "B = tf.random_normal([5, 5])\n",
    "C = tf.matmul(A, B)"
   ]
  },
  {
   "cell_type": "code",
   "execution_count": 9,
   "metadata": {
    "collapsed": false
   },
   "outputs": [
    {
     "data": {
      "text/plain": [
       "array([[ 0.6713317 ,  0.55439651, -1.0577389 ,  1.28530169,  1.06333351],\n",
       "       [-0.62463957, -1.70930028,  0.49237522,  0.49688342,  1.09901333],\n",
       "       [ 1.02833974, -1.60212111,  2.19020295,  2.80705333,  1.72223783],\n",
       "       [-4.92258596, -0.51666957,  1.26476395, -2.48184824, -1.89214742],\n",
       "       [ 3.07562447,  0.22396129, -0.13065125,  0.73524332,  0.62422669]], dtype=float32)"
      ]
     },
     "execution_count": 9,
     "metadata": {},
     "output_type": "execute_result"
    }
   ],
   "source": [
    "session = tf.Session()\n",
    "session.run(C)"
   ]
  },
  {
   "cell_type": "code",
   "execution_count": 10,
   "metadata": {
    "collapsed": true
   },
   "outputs": [],
   "source": [
    "session.close()"
   ]
  },
  {
   "cell_type": "code",
   "execution_count": 11,
   "metadata": {
    "collapsed": false
   },
   "outputs": [
    {
     "data": {
      "text/plain": [
       "array([[-0.25630236,  0.12371555,  0.1288926 ,  1.80812871,  0.44942346],\n",
       "       [-3.04538345,  0.37428981,  1.9841218 , -1.048715  , -0.46875966],\n",
       "       [-2.15636587, -0.20620292,  1.4968015 , -1.14412487,  0.12639028],\n",
       "       [-0.24468128, -1.09354186,  0.80568409,  0.85251367, -1.25824964],\n",
       "       [-4.33810806,  2.03402233,  1.80752504,  0.46481633,  2.46682692]], dtype=float32)"
      ]
     },
     "execution_count": 11,
     "metadata": {},
     "output_type": "execute_result"
    }
   ],
   "source": [
    "session = tf.Session()\n",
    "session.run(C)"
   ]
  },
  {
   "cell_type": "code",
   "execution_count": 12,
   "metadata": {
    "collapsed": true
   },
   "outputs": [],
   "source": [
    "session.close()"
   ]
  },
  {
   "cell_type": "code",
   "execution_count": 14,
   "metadata": {
    "collapsed": false
   },
   "outputs": [
    {
     "name": "stdout",
     "output_type": "stream",
     "text": [
      "[[ -2.73657632e+00   3.25895095e+00   2.27016544e+00  -3.32377243e+00\n",
      "    2.22333223e-01]\n",
      " [ -6.49023819e+00  -6.98071241e-01  -3.81055474e-03  -1.92393875e+00\n",
      "   -6.13990247e-01]\n",
      " [ -2.81390357e+00   8.00677395e+00   1.83668470e+00   2.34332991e+00\n",
      "   -6.93236113e-01]\n",
      " [  4.12856483e+00  -2.63529682e+00  -3.77050972e+00   1.90170383e+00\n",
      "   -4.33122826e+00]\n",
      " [  2.01555514e+00   8.19137454e-01  -2.00892901e+00   1.83298850e+00\n",
      "   -2.77941346e+00]]\n"
     ]
    }
   ],
   "source": [
    "with tf.Session() as session:\n",
    "    print(session.run(C))"
   ]
  },
  {
   "cell_type": "code",
   "execution_count": 15,
   "metadata": {
    "collapsed": true
   },
   "outputs": [],
   "source": [
    "session.close()"
   ]
  },
  {
   "cell_type": "code",
   "execution_count": 16,
   "metadata": {
    "collapsed": true
   },
   "outputs": [],
   "source": [
    "writer = tf.summary.FileWriter('/tmp/first_graph', session.graph)"
   ]
  },
  {
   "cell_type": "code",
   "execution_count": null,
   "metadata": {
    "collapsed": true
   },
   "outputs": [],
   "source": []
  }
 ],
 "metadata": {
  "kernelspec": {
   "display_name": "Python 2",
   "language": "python",
   "name": "python2"
  },
  "language_info": {
   "codemirror_mode": {
    "name": "ipython",
    "version": 2
   },
   "file_extension": ".py",
   "mimetype": "text/x-python",
   "name": "python",
   "nbconvert_exporter": "python",
   "pygments_lexer": "ipython2",
   "version": "2.7.6"
  }
 },
 "nbformat": 4,
 "nbformat_minor": 2
}
